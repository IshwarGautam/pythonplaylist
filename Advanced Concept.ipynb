{
 "cells": [
  {
   "cell_type": "markdown",
   "id": "56756d4b-7e20-4716-8696-6c3112b0fdcc",
   "metadata": {},
   "source": [
    "# Multithreading`"
   ]
  },
  {
   "cell_type": "code",
   "execution_count": 1,
   "id": "f25111b6-a293-4233-bd6f-3d8076adc83e",
   "metadata": {},
   "outputs": [],
   "source": [
    "import threading\n",
    "import time"
   ]
  },
  {
   "cell_type": "code",
   "execution_count": 2,
   "id": "246b0a84-59ed-4504-839d-0787deb0067e",
   "metadata": {},
   "outputs": [],
   "source": [
    "def find_square(num):\n",
    "    for i in range(num):\n",
    "        time.sleep(2)\n",
    "        print(f\"Square: {i*i} \")\n",
    "        print(time.ctime())\n",
    "\n",
    "def find_cube(num):\n",
    "    for i in range(num):\n",
    "        time.sleep(3)\n",
    "        print(f\"Cube: {i**3} \")\n",
    "        print(time.ctime())"
   ]
  },
  {
   "cell_type": "code",
   "execution_count": 3,
   "id": "78e277eb-4d2c-4505-a251-13752dd79a32",
   "metadata": {},
   "outputs": [
    {
     "name": "stdout",
     "output_type": "stream",
     "text": [
      "Square: 0 \n",
      "Sun Aug 27 16:17:14 2023\n",
      "Cube: 0 \n",
      "Sun Aug 27 16:17:15 2023\n",
      "Square: 1 \n",
      "Sun Aug 27 16:17:16 2023\n",
      "Square: 4 Cube: 1 \n",
      "Sun Aug 27 16:17:18 2023\n",
      "\n",
      "Sun Aug 27 16:17:18 2023\n",
      "Square: 9 \n",
      "Sun Aug 27 16:17:20 2023\n",
      "Cube: 8 \n",
      "Sun Aug 27 16:17:21 2023\n",
      "Square: 16 \n",
      "Sun Aug 27 16:17:22 2023\n",
      "Cube: 27 \n",
      "Sun Aug 27 16:17:24 2023\n",
      "Cube: 64 \n",
      "Sun Aug 27 16:17:27 2023\n",
      "Thread successfully executed!!!\n"
     ]
    }
   ],
   "source": [
    "# create thread\n",
    "t1 = threading.Thread(target=find_square, args=(5,))\n",
    "t2 = threading.Thread(target=find_cube, args=(5,))\n",
    "\n",
    "t1.start()\n",
    "t2.start()\n",
    "\n",
    "# join method waits for threads to terminate\n",
    "t1.join()\n",
    "t2.join()\n",
    "\n",
    "print(\"Thread successfully executed!!!\")"
   ]
  },
  {
   "cell_type": "markdown",
   "id": "949fe223-bb6d-490f-a2a8-d7557d002a3f",
   "metadata": {},
   "source": [
    "# Decorators"
   ]
  },
  {
   "cell_type": "code",
   "execution_count": 5,
   "id": "692ea899-5ed7-4a82-8cfa-1da42373d003",
   "metadata": {},
   "outputs": [
    {
     "name": "stdout",
     "output_type": "stream",
     "text": [
      "I am going to divide 10 and 2\n",
      "5.0\n",
      "----------------------\n",
      "I am going to divide 10 and 0\n",
      "Cannot divide these numbers\n",
      "None\n"
     ]
    }
   ],
   "source": [
    "def decorator_func(func): # decorator function take function as parameter\n",
    "    def inner_func(a,b):\n",
    "        print(\"I am going to divide\", a, \"and\",b)\n",
    "        if b == 0:\n",
    "            print(\"Cannot divide these numbers\")\n",
    "            return\n",
    "        return func(a,b) # this func is divide function in this case\n",
    "    return inner_func\n",
    "\n",
    "@decorator_func # this line pass divide function to decorator function\n",
    "def divide(a,b):\n",
    "    return a/b\n",
    "\n",
    "print(divide(10,2))\n",
    "print(\"----------------------\")\n",
    "print(divide(10,0))"
   ]
  },
  {
   "cell_type": "code",
   "execution_count": null,
   "id": "70db26f4-ebc7-40e1-b768-83de119cfd1d",
   "metadata": {},
   "outputs": [],
   "source": []
  }
 ],
 "metadata": {
  "kernelspec": {
   "display_name": "Python 3 (ipykernel)",
   "language": "python",
   "name": "python3"
  },
  "language_info": {
   "codemirror_mode": {
    "name": "ipython",
    "version": 3
   },
   "file_extension": ".py",
   "mimetype": "text/x-python",
   "name": "python",
   "nbconvert_exporter": "python",
   "pygments_lexer": "ipython3",
   "version": "3.11.4"
  }
 },
 "nbformat": 4,
 "nbformat_minor": 5
}

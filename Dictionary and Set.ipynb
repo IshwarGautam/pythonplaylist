{
 "cells": [
  {
   "cell_type": "markdown",
   "id": "20f581f0-6a0e-46ff-ae40-4b2485560f98",
   "metadata": {},
   "source": [
    "# Dictionary"
   ]
  },
  {
   "cell_type": "markdown",
   "id": "14381185-0bae-49b7-b4dd-afe6a5b44dc4",
   "metadata": {},
   "source": [
    "we can use curly bracket to define dictionary. Dictionary has a key-value pair"
   ]
  },
  {
   "cell_type": "code",
   "execution_count": 1,
   "id": "a3c10afc-07ae-4a86-82f2-1577ab08ad85",
   "metadata": {},
   "outputs": [
    {
     "name": "stdout",
     "output_type": "stream",
     "text": [
      "<class 'dict'>\n"
     ]
    }
   ],
   "source": [
    "myDict = {}\n",
    "print(type(myDict))"
   ]
  },
  {
   "cell_type": "code",
   "execution_count": 2,
   "id": "4f982b6a-5567-4ba0-ba90-80e9ed9f0f47",
   "metadata": {},
   "outputs": [],
   "source": [
    "contact_info = {\n",
    "    \"Hari\": \"hari@gmail.com\",\n",
    "    \"Sita\": \"Sita@gmail.com\"\n",
    "}"
   ]
  },
  {
   "cell_type": "code",
   "execution_count": 3,
   "id": "102daf64-d352-4c07-a4ed-3a04d1304512",
   "metadata": {},
   "outputs": [],
   "source": [
    "myProfile = {\n",
    "    \"id\": 1,\n",
    "    \"name\": \"Ishwar\",\n",
    "    \"contact_no\": 984884545545,\n",
    "    \"married\": False\n",
    "}"
   ]
  },
  {
   "cell_type": "code",
   "execution_count": 4,
   "id": "777a063c-58bc-4093-9de5-b72974c76e34",
   "metadata": {},
   "outputs": [
    {
     "name": "stdout",
     "output_type": "stream",
     "text": [
      "<class 'dict'>\n"
     ]
    }
   ],
   "source": [
    "print(type(myProfile))"
   ]
  },
  {
   "cell_type": "code",
   "execution_count": 5,
   "id": "09db4250-970d-48b0-a68d-44b11b425d6c",
   "metadata": {},
   "outputs": [],
   "source": [
    "# Next way to initialize a dictionary\n",
    "myDict = dict()"
   ]
  },
  {
   "cell_type": "code",
   "execution_count": 6,
   "id": "637c485e-169b-40eb-b584-aa770607b1c1",
   "metadata": {},
   "outputs": [
    {
     "name": "stdout",
     "output_type": "stream",
     "text": [
      "<class 'dict'>\n"
     ]
    }
   ],
   "source": [
    "print(type(myDict))"
   ]
  },
  {
   "cell_type": "code",
   "execution_count": 7,
   "id": "31969986-b071-48d5-8ae4-19b555dd40e7",
   "metadata": {},
   "outputs": [
    {
     "name": "stdout",
     "output_type": "stream",
     "text": [
      "Ishwar\n"
     ]
    }
   ],
   "source": [
    "print(myProfile[\"name\"])"
   ]
  },
  {
   "cell_type": "code",
   "execution_count": 8,
   "id": "c52b75ab-5974-4e4a-9906-208d482e5e70",
   "metadata": {},
   "outputs": [
    {
     "name": "stdout",
     "output_type": "stream",
     "text": [
      "id 1\n",
      "name Ishwar\n",
      "contact_no 984884545545\n",
      "married False\n"
     ]
    }
   ],
   "source": [
    "# Iterate dictionary\n",
    "for key,value in myProfile.items():\n",
    "    print(key,value)"
   ]
  },
  {
   "cell_type": "code",
   "execution_count": 9,
   "id": "9f43b31f-daf7-4e68-95e8-ecc797361abc",
   "metadata": {},
   "outputs": [],
   "source": [
    "# Add new key-value pair\n",
    "myProfile[\"age\"] = 26"
   ]
  },
  {
   "cell_type": "code",
   "execution_count": 10,
   "id": "90bc20d0-6074-4605-9179-e68eba7a600e",
   "metadata": {},
   "outputs": [
    {
     "name": "stdout",
     "output_type": "stream",
     "text": [
      "{'id': 1, 'name': 'Ishwar', 'contact_no': 984884545545, 'married': False, 'age': 26}\n"
     ]
    }
   ],
   "source": [
    "print(myProfile)"
   ]
  },
  {
   "cell_type": "markdown",
   "id": "75c170c6-b492-46de-ae3b-4cd14a0360e1",
   "metadata": {},
   "source": [
    "# Set"
   ]
  },
  {
   "cell_type": "markdown",
   "id": "ca95be77-8244-4244-85f1-a8633d56a8fd",
   "metadata": {},
   "source": [
    "we can also use curly bracket to define a set but set has only key."
   ]
  },
  {
   "cell_type": "code",
   "execution_count": 11,
   "id": "1f634312-7e19-4129-bc78-8d7f31b3ac80",
   "metadata": {},
   "outputs": [
    {
     "name": "stdout",
     "output_type": "stream",
     "text": [
      "<class 'set'>\n"
     ]
    }
   ],
   "source": [
    "mySet = set()\n",
    "print(type(mySet))"
   ]
  },
  {
   "cell_type": "code",
   "execution_count": 14,
   "id": "55d7f2f9-602b-45e4-8f8d-e9f0b8cd0819",
   "metadata": {},
   "outputs": [
    {
     "name": "stdout",
     "output_type": "stream",
     "text": [
      "<class 'set'>\n"
     ]
    }
   ],
   "source": [
    "mySet = {\"name\", \"age\", \"hello\", 67, 67.5, True}\n",
    "print(type(mySet))"
   ]
  },
  {
   "cell_type": "code",
   "execution_count": 15,
   "id": "c61c71a6-d2a8-464b-a717-8bd0d0115364",
   "metadata": {},
   "outputs": [],
   "source": [
    "# In list, duplicate element is acceptable\n",
    "lst = [4,5,6,4,6,8,9]"
   ]
  },
  {
   "cell_type": "code",
   "execution_count": 16,
   "id": "7377bacf-ca90-4318-a578-abc7672a7ae8",
   "metadata": {},
   "outputs": [
    {
     "name": "stdout",
     "output_type": "stream",
     "text": [
      "[4, 5, 6, 4, 6, 8, 9]\n"
     ]
    }
   ],
   "source": [
    "print(lst)"
   ]
  },
  {
   "cell_type": "code",
   "execution_count": 17,
   "id": "cff9d3ff-7758-4b4f-ab4a-53023790bb94",
   "metadata": {},
   "outputs": [],
   "source": [
    "# In set, duplicate element is not acceptable\n",
    "set = {4,5,6,4,6,8,9}"
   ]
  },
  {
   "cell_type": "code",
   "execution_count": 18,
   "id": "2e7746b5-e10f-4d39-97a4-8031f7160c2c",
   "metadata": {},
   "outputs": [
    {
     "name": "stdout",
     "output_type": "stream",
     "text": [
      "{4, 5, 6, 8, 9}\n"
     ]
    }
   ],
   "source": [
    "print(set)"
   ]
  },
  {
   "cell_type": "code",
   "execution_count": 20,
   "id": "34e91c59-09cf-4129-8b77-7478ece3679b",
   "metadata": {},
   "outputs": [
    {
     "name": "stdout",
     "output_type": "stream",
     "text": [
      "4\n"
     ]
    }
   ],
   "source": [
    "print(lst[0])"
   ]
  },
  {
   "cell_type": "code",
   "execution_count": 22,
   "id": "11284259-61fb-48b7-9b40-5d4f9550e94a",
   "metadata": {},
   "outputs": [
    {
     "name": "stdout",
     "output_type": "stream",
     "text": [
      "4\n",
      "5\n",
      "6\n",
      "8\n",
      "9\n"
     ]
    }
   ],
   "source": [
    "# Iterate set\n",
    "for i in set:\n",
    "    print(i)"
   ]
  },
  {
   "cell_type": "code",
   "execution_count": null,
   "id": "f3ef483f-f748-4630-a428-783b01badf1c",
   "metadata": {},
   "outputs": [],
   "source": []
  }
 ],
 "metadata": {
  "kernelspec": {
   "display_name": "Python 3 (ipykernel)",
   "language": "python",
   "name": "python3"
  },
  "language_info": {
   "codemirror_mode": {
    "name": "ipython",
    "version": 3
   },
   "file_extension": ".py",
   "mimetype": "text/x-python",
   "name": "python",
   "nbconvert_exporter": "python",
   "pygments_lexer": "ipython3",
   "version": "3.11.4"
  }
 },
 "nbformat": 4,
 "nbformat_minor": 5
}

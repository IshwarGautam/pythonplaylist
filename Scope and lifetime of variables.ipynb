{
 "cells": [
  {
   "cell_type": "code",
   "execution_count": 5,
   "id": "2aa9ec23-46ce-457b-b70c-e0ff962d89a0",
   "metadata": {},
   "outputs": [
    {
     "name": "stdout",
     "output_type": "stream",
     "text": [
      "Global variables inside function:  GLOBAL VARIABLES\n",
      "Global variables inside nested function:  GLOBAL VARIABLES\n",
      "Local variables inside nested function:  LOCAL VARIABLES\n"
     ]
    }
   ],
   "source": [
    "global_var = \"GLOBAL VARIABLES\"\n",
    "\n",
    "def outer_function():\n",
    "    local_var = \"LOCAL VARIABLES\"\n",
    "    print(\"Global variables inside function: \", global_var)\n",
    "    \n",
    "    def inner_function():\n",
    "        enclosed_var = \"ENCLOSED VARIABLES\"\n",
    "        print(\"Global variables inside nested function: \", global_var)\n",
    "        print(\"Local variables inside nested function: \", local_var)\n",
    "\n",
    "    inner_function()\n",
    "\n",
    "# print(local_var) not acceptable\n",
    "\n",
    "outer_function()"
   ]
  },
  {
   "cell_type": "code",
   "execution_count": 6,
   "id": "d02d7c11-685d-4247-abaa-0d62aed236ca",
   "metadata": {},
   "outputs": [
    {
     "name": "stdout",
     "output_type": "stream",
     "text": [
      "16\n"
     ]
    }
   ],
   "source": [
    "print(len(global_var))"
   ]
  },
  {
   "cell_type": "code",
   "execution_count": null,
   "id": "e4800228-6996-4b08-bd42-522f96a01616",
   "metadata": {},
   "outputs": [],
   "source": []
  }
 ],
 "metadata": {
  "kernelspec": {
   "display_name": "Python 3 (ipykernel)",
   "language": "python",
   "name": "python3"
  },
  "language_info": {
   "codemirror_mode": {
    "name": "ipython",
    "version": 3
   },
   "file_extension": ".py",
   "mimetype": "text/x-python",
   "name": "python",
   "nbconvert_exporter": "python",
   "pygments_lexer": "ipython3",
   "version": "3.11.4"
  }
 },
 "nbformat": 4,
 "nbformat_minor": 5
}

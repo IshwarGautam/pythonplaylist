{
 "cells": [
  {
   "cell_type": "code",
   "execution_count": 2,
   "id": "7fa90b42-963f-487c-8cd0-a7ea30829f26",
   "metadata": {},
   "outputs": [],
   "source": [
    "# Variable can be string, a combination of string and number, can also include special symbol like underscore _ \n",
    "# data types can be integer, string, float (decimal) and boolean\n",
    "\n",
    "myNumber = 343\n",
    "name = \"IG Tech Team\"\n",
    "isValid = True\n",
    "my_marks = 81.5"
   ]
  },
  {
   "cell_type": "code",
   "execution_count": null,
   "id": "fd4d14c2-7cb1-40c4-85cb-36ebb8b02700",
   "metadata": {},
   "outputs": [],
   "source": []
  }
 ],
 "metadata": {
  "kernelspec": {
   "display_name": "Python 3 (ipykernel)",
   "language": "python",
   "name": "python3"
  },
  "language_info": {
   "codemirror_mode": {
    "name": "ipython",
    "version": 3
   },
   "file_extension": ".py",
   "mimetype": "text/x-python",
   "name": "python",
   "nbconvert_exporter": "python",
   "pygments_lexer": "ipython3",
   "version": "3.11.4"
  }
 },
 "nbformat": 4,
 "nbformat_minor": 5
}

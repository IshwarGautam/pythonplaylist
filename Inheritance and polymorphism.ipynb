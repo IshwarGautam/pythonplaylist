{
 "cells": [
  {
   "cell_type": "markdown",
   "id": "698a4afc-b118-4ff0-9057-6ccfd759b804",
   "metadata": {},
   "source": [
    "# Inheritance"
   ]
  },
  {
   "cell_type": "code",
   "execution_count": 6,
   "id": "3aa768f0-b02e-4604-a764-18a3166b7b22",
   "metadata": {},
   "outputs": [
    {
     "name": "stdout",
     "output_type": "stream",
     "text": [
      "animal\n",
      "Tommy\n",
      "Cattue\n",
      "vaau vaau\n",
      "meeu meeu\n",
      "Eating....\n"
     ]
    }
   ],
   "source": [
    "class Animal:\n",
    "    def __init__(self, name):\n",
    "        self.name = name\n",
    "\n",
    "    def eat(self):\n",
    "        print(\"Eating....\")\n",
    "\n",
    "class Dog(Animal): # include parent (base) class name in child (derived) class\n",
    "    def sound(self):\n",
    "        print(\"vaau vaau\")\n",
    "\n",
    "class Cat(Animal):\n",
    "    def sound(self):\n",
    "        print(\"meeu meeu\")\n",
    "\n",
    "animal = Animal(\"animal\")\n",
    "dog = Dog(\"Tommy\")\n",
    "cat = Cat(\"Cattue\")\n",
    "\n",
    "print(animal.name)\n",
    "print(dog.name)\n",
    "print(cat.name)\n",
    "\n",
    "dog.sound()\n",
    "cat.sound()\n",
    "\n",
    "dog.eat()"
   ]
  },
  {
   "cell_type": "markdown",
   "id": "3c9ebed8-59ea-47df-b0c1-307c7cdb1e50",
   "metadata": {},
   "source": [
    "# Polymorphism"
   ]
  },
  {
   "cell_type": "code",
   "execution_count": 8,
   "id": "87f6f8e4-785c-4b25-a4f7-90e8c159d346",
   "metadata": {},
   "outputs": [
    {
     "name": "stdout",
     "output_type": "stream",
     "text": [
      "meeu meeu\n"
     ]
    }
   ],
   "source": [
    "class Animal:\n",
    "    def __init__(self, name):\n",
    "        self.name = name\n",
    "\n",
    "    def eat(self):\n",
    "        print(\"Eating....\")\n",
    "\n",
    "class Dog(Animal):\n",
    "    def sound(self):\n",
    "        print(\"vaau vaau\")\n",
    "\n",
    "class Cat(Animal):\n",
    "    def sound(self):\n",
    "        print(\"meeu meeu\")\n",
    "\n",
    "# implement polymorphism method\n",
    "def animal_sound(animal):\n",
    "    return animal.sound()\n",
    "\n",
    "animal_sound(cat)"
   ]
  },
  {
   "cell_type": "code",
   "execution_count": null,
   "id": "64146d59-2773-4c1a-9a4d-b54162bf9a75",
   "metadata": {},
   "outputs": [],
   "source": []
  }
 ],
 "metadata": {
  "kernelspec": {
   "display_name": "Python 3 (ipykernel)",
   "language": "python",
   "name": "python3"
  },
  "language_info": {
   "codemirror_mode": {
    "name": "ipython",
    "version": 3
   },
   "file_extension": ".py",
   "mimetype": "text/x-python",
   "name": "python",
   "nbconvert_exporter": "python",
   "pygments_lexer": "ipython3",
   "version": "3.11.4"
  }
 },
 "nbformat": 4,
 "nbformat_minor": 5
}

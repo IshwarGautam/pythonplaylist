{
 "cells": [
  {
   "cell_type": "markdown",
   "id": "6a57e6e9-b26f-4cdd-8bbc-65daa6cde5b3",
   "metadata": {},
   "source": [
    "# Module"
   ]
  },
  {
   "cell_type": "code",
   "execution_count": 1,
   "id": "908c833f-0573-469f-8a18-05014e90a6a4",
   "metadata": {},
   "outputs": [],
   "source": [
    "# import math module\n",
    "import math"
   ]
  },
  {
   "cell_type": "code",
   "execution_count": 2,
   "id": "4555528a-f994-4a7f-b687-6bea7974d2d8",
   "metadata": {},
   "outputs": [
    {
     "name": "stdout",
     "output_type": "stream",
     "text": [
      "6.0\n"
     ]
    }
   ],
   "source": [
    "print(math.sqrt(36))"
   ]
  },
  {
   "cell_type": "code",
   "execution_count": 3,
   "id": "c632d1c9-ab36-4e38-8162-0d7ffa86b5cb",
   "metadata": {},
   "outputs": [
    {
     "data": {
      "text/plain": [
       "36.0"
      ]
     },
     "execution_count": 3,
     "metadata": {},
     "output_type": "execute_result"
    }
   ],
   "source": [
    "math.pow(6, 2)"
   ]
  },
  {
   "cell_type": "code",
   "execution_count": 4,
   "id": "ced99430-a331-46f0-ae88-2db2f930d02f",
   "metadata": {},
   "outputs": [
    {
     "name": "stdout",
     "output_type": "stream",
     "text": [
      "3.141592653589793\n"
     ]
    }
   ],
   "source": [
    "# import specified function from math module\n",
    "from math import sqrt, pow, pi\n",
    "\n",
    "print(pi)"
   ]
  },
  {
   "cell_type": "code",
   "execution_count": 5,
   "id": "bb86ba50-1117-4568-84a2-ff28c2b9737a",
   "metadata": {},
   "outputs": [
    {
     "data": {
      "text/plain": [
       "4"
      ]
     },
     "execution_count": 5,
     "metadata": {},
     "output_type": "execute_result"
    }
   ],
   "source": [
    "math.floor(4.5678)"
   ]
  },
  {
   "cell_type": "code",
   "execution_count": 6,
   "id": "457a071b-05d9-4436-b128-401aeba80d48",
   "metadata": {},
   "outputs": [
    {
     "data": {
      "text/plain": [
       "5"
      ]
     },
     "execution_count": 6,
     "metadata": {},
     "output_type": "execute_result"
    }
   ],
   "source": [
    "math.ceil(4.5678)"
   ]
  },
  {
   "cell_type": "code",
   "execution_count": 7,
   "id": "d1e2fb36-9eb7-41ac-b8ac-91574656da8d",
   "metadata": {},
   "outputs": [
    {
     "name": "stdout",
     "output_type": "stream",
     "text": [
      "3.141592653589793\n"
     ]
    }
   ],
   "source": [
    "# use alias value while importing\n",
    "import math as m\n",
    "print(m.pi)"
   ]
  },
  {
   "cell_type": "code",
   "execution_count": 1,
   "id": "df20826b-cced-4776-b0e1-a12d7eb0cbf7",
   "metadata": {},
   "outputs": [
    {
     "name": "stdout",
     "output_type": "stream",
     "text": [
      "3.141592653589793\n"
     ]
    }
   ],
   "source": [
    "# import everything from math module\n",
    "from math import *\n",
    "\n",
    "print(pi)"
   ]
  },
  {
   "cell_type": "markdown",
   "id": "e6f891c1-78df-4ee4-9bf3-b62856ae84b4",
   "metadata": {},
   "source": [
    "# Package"
   ]
  },
  {
   "cell_type": "code",
   "execution_count": 2,
   "id": "56a7322e-cfd9-4cf4-b370-93adffd25d82",
   "metadata": {},
   "outputs": [],
   "source": [
    "# import random package\n",
    "import random"
   ]
  },
  {
   "cell_type": "code",
   "execution_count": 5,
   "id": "5cd066c2-38ff-48e5-9f6e-9f78ef730298",
   "metadata": {},
   "outputs": [
    {
     "name": "stdout",
     "output_type": "stream",
     "text": [
      "7\n"
     ]
    }
   ],
   "source": [
    "print(random.randint(4,10))"
   ]
  },
  {
   "cell_type": "code",
   "execution_count": 9,
   "id": "0f4db204-0663-4641-b143-0f13b0c73cad",
   "metadata": {},
   "outputs": [
    {
     "name": "stdout",
     "output_type": "stream",
     "text": [
      "[7, 8, 4, 6, 2, 5, 9, 1]\n"
     ]
    }
   ],
   "source": [
    "numbers = [4,5,1,2,9,8,6,7]\n",
    "\n",
    "random.shuffle(numbers)\n",
    "print(numbers)"
   ]
  },
  {
   "cell_type": "code",
   "execution_count": null,
   "id": "d5df2018-7a0a-4c66-9a3b-ac399e41c17c",
   "metadata": {},
   "outputs": [],
   "source": []
  }
 ],
 "metadata": {
  "kernelspec": {
   "display_name": "Python 3 (ipykernel)",
   "language": "python",
   "name": "python3"
  },
  "language_info": {
   "codemirror_mode": {
    "name": "ipython",
    "version": 3
   },
   "file_extension": ".py",
   "mimetype": "text/x-python",
   "name": "python",
   "nbconvert_exporter": "python",
   "pygments_lexer": "ipython3",
   "version": "3.11.4"
  }
 },
 "nbformat": 4,
 "nbformat_minor": 5
}

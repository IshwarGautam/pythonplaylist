{
 "cells": [
  {
   "cell_type": "code",
   "execution_count": 1,
   "id": "ba9071a9-8b32-4333-b8f4-2180b6cfe4b7",
   "metadata": {},
   "outputs": [
    {
     "name": "stdout",
     "output_type": "stream",
     "text": [
      "\n",
      "Note-Taking App\n",
      "1. Add Note\n",
      "2. View Notes\n",
      "3. Delete Note\n",
      "4. Exit\n"
     ]
    },
    {
     "name": "stdin",
     "output_type": "stream",
     "text": [
      "Enter your choice:  2\n"
     ]
    },
    {
     "name": "stdout",
     "output_type": "stream",
     "text": [
      "No notes available.\n",
      "\n",
      "Note-Taking App\n",
      "1. Add Note\n",
      "2. View Notes\n",
      "3. Delete Note\n",
      "4. Exit\n"
     ]
    },
    {
     "name": "stdin",
     "output_type": "stream",
     "text": [
      "Enter your choice:  1\n",
      "Enter note title:  IG Tech Team\n",
      "Enter note content:  Best place to learn about technology\n"
     ]
    },
    {
     "name": "stdout",
     "output_type": "stream",
     "text": [
      "Note added successfully!\n",
      "\n",
      "Note-Taking App\n",
      "1. Add Note\n",
      "2. View Notes\n",
      "3. Delete Note\n",
      "4. Exit\n"
     ]
    },
    {
     "name": "stdin",
     "output_type": "stream",
     "text": [
      "Enter your choice:  1\n",
      "Enter note title:  Python course\n",
      "Enter note content:  Mastering python from basic to Project\n"
     ]
    },
    {
     "name": "stdout",
     "output_type": "stream",
     "text": [
      "Note added successfully!\n",
      "\n",
      "Note-Taking App\n",
      "1. Add Note\n",
      "2. View Notes\n",
      "3. Delete Note\n",
      "4. Exit\n"
     ]
    },
    {
     "name": "stdin",
     "output_type": "stream",
     "text": [
      "Enter your choice:  2\n"
     ]
    },
    {
     "name": "stdout",
     "output_type": "stream",
     "text": [
      "Your Notes: \n",
      "Title: IG Tech Team\n",
      "Content: Best place to learn about technology\n",
      "\n",
      "Title: Python course\n",
      "Content: Mastering python from basic to Project\n",
      "\n",
      "\n",
      "Note-Taking App\n",
      "1. Add Note\n",
      "2. View Notes\n",
      "3. Delete Note\n",
      "4. Exit\n"
     ]
    },
    {
     "name": "stdin",
     "output_type": "stream",
     "text": [
      "Enter your choice:  3\n",
      "Enter note title to delete:  Python course\n"
     ]
    },
    {
     "name": "stdout",
     "output_type": "stream",
     "text": [
      "Note deleted successfully!\n",
      "\n",
      "Note-Taking App\n",
      "1. Add Note\n",
      "2. View Notes\n",
      "3. Delete Note\n",
      "4. Exit\n"
     ]
    },
    {
     "name": "stdin",
     "output_type": "stream",
     "text": [
      "Enter your choice:  \n"
     ]
    },
    {
     "name": "stdout",
     "output_type": "stream",
     "text": [
      "Invalid choice. Please select a valid option.\n",
      "\n",
      "Note-Taking App\n",
      "1. Add Note\n",
      "2. View Notes\n",
      "3. Delete Note\n",
      "4. Exit\n"
     ]
    },
    {
     "name": "stdin",
     "output_type": "stream",
     "text": [
      "Enter your choice:  a\n"
     ]
    },
    {
     "name": "stdout",
     "output_type": "stream",
     "text": [
      "Invalid choice. Please select a valid option.\n",
      "\n",
      "Note-Taking App\n",
      "1. Add Note\n",
      "2. View Notes\n",
      "3. Delete Note\n",
      "4. Exit\n"
     ]
    },
    {
     "name": "stdin",
     "output_type": "stream",
     "text": [
      "Enter your choice:  4\n"
     ]
    },
    {
     "name": "stdout",
     "output_type": "stream",
     "text": [
      "Exiting the Note-Taking App. Goodbye!\n"
     ]
    }
   ],
   "source": [
    "class NoteTakingApp:\n",
    "    def __init__(self):\n",
    "        self.notes = {}\n",
    "\n",
    "    def add_note(self, title, content):\n",
    "        self.notes[title] = content\n",
    "        print(\"Note added successfully!\")\n",
    "\n",
    "    def view_notes(self):\n",
    "        if self.notes:\n",
    "            print(\"Your Notes: \")\n",
    "            for title,content in self.notes.items():\n",
    "                print(f\"Title: {title}\\nContent: {content}\\n\")\n",
    "        else:\n",
    "            print(\"No notes available.\")\n",
    "\n",
    "    def delete_note(self, title):\n",
    "        if title in self.notes:\n",
    "            del self.notes[title]\n",
    "            print(\"Note deleted successfully!\")\n",
    "        else:\n",
    "            print(\"Note not found.\")\n",
    "\n",
    "def main():\n",
    "    app = NoteTakingApp()\n",
    "\n",
    "    while True:\n",
    "        print(\"\\nNote-Taking App\")\n",
    "        print(\"1. Add Note\")\n",
    "        print(\"2. View Notes\")\n",
    "        print(\"3. Delete Note\")\n",
    "        print(\"4. Exit\")\n",
    "\n",
    "        choice = input(\"Enter your choice: \")\n",
    "\n",
    "        if choice == \"1\":\n",
    "            title = input(\"Enter note title: \")\n",
    "            content = input(\"Enter note content: \")\n",
    "            app.add_note(title, content)\n",
    "        elif choice == \"2\":\n",
    "            app.view_notes()\n",
    "        elif choice == \"3\":\n",
    "            title = input(\"Enter note title to delete: \")\n",
    "            app.delete_note(title)\n",
    "        elif choice == \"4\":\n",
    "            print(\"Exiting the Note-Taking App. Goodbye!\")\n",
    "            break\n",
    "        else:\n",
    "            print(\"Invalid choice. Please select a valid option.\")\n",
    "\n",
    "if __name__ == \"__main__\":\n",
    "    main()"
   ]
  },
  {
   "cell_type": "code",
   "execution_count": null,
   "id": "73584abc-cf9a-4770-abed-46d5966c23f5",
   "metadata": {},
   "outputs": [],
   "source": []
  }
 ],
 "metadata": {
  "kernelspec": {
   "display_name": "Python 3 (ipykernel)",
   "language": "python",
   "name": "python3"
  },
  "language_info": {
   "codemirror_mode": {
    "name": "ipython",
    "version": 3
   },
   "file_extension": ".py",
   "mimetype": "text/x-python",
   "name": "python",
   "nbconvert_exporter": "python",
   "pygments_lexer": "ipython3",
   "version": "3.11.4"
  }
 },
 "nbformat": 4,
 "nbformat_minor": 5
}

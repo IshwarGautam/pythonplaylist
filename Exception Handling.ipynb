{
 "cells": [
  {
   "cell_type": "markdown",
   "id": "a4c14645-5194-44c8-b023-a2468a8c36dd",
   "metadata": {},
   "source": [
    "# try, except, else and finally block"
   ]
  },
  {
   "cell_type": "code",
   "execution_count": 12,
   "id": "c0cc6f7c-e4e6-4668-9bde-f908ab518a7e",
   "metadata": {},
   "outputs": [
    {
     "name": "stdin",
     "output_type": "stream",
     "text": [
      "Enter any number:  0\n"
     ]
    },
    {
     "name": "stdout",
     "output_type": "stream",
     "text": [
      "You can't divide any number by zero.\n",
      "Execution completed.\n"
     ]
    }
   ],
   "source": [
    "try:\n",
    "    number = int(input(\"Enter any number: \"))\n",
    "    divisor = 5/number\n",
    "except ZeroDivisionError:\n",
    "    print(\"You can't divide any number by zero.\")\n",
    "except ValueError:\n",
    "    print(\"Please provide only numbers, characters are not acceptable.\")\n",
    "except Exception as e:\n",
    "    print(\"Some error occur: \", e)\n",
    "else:\n",
    "     print(divisor)\n",
    "finally:\n",
    "    print(\"Execution completed.\")"
   ]
  },
  {
   "cell_type": "code",
   "execution_count": 15,
   "id": "85683497-d9f8-487e-af41-2e00e2aa78b0",
   "metadata": {},
   "outputs": [
    {
     "name": "stdin",
     "output_type": "stream",
     "text": [
      "Enter any number:  2\n"
     ]
    },
    {
     "name": "stdout",
     "output_type": "stream",
     "text": [
      "2.5\n",
      "Execution completed.\n"
     ]
    }
   ],
   "source": [
    "try:\n",
    "    number = int(input(\"Enter any number: \"))\n",
    "    divisor = 5/number\n",
    "except (ZeroDivisionError, ValueError):\n",
    "    print(\"Number should not be zero or characters.\")\n",
    "except Exception as e:\n",
    "    print(\"Some error occur: \", e)\n",
    "else:\n",
    "     print(divisor)\n",
    "finally:\n",
    "    print(\"Execution completed.\")"
   ]
  },
  {
   "cell_type": "markdown",
   "id": "2266b3dc-fa26-4e82-b985-8026de699722",
   "metadata": {},
   "source": [
    "# Create custom exception"
   ]
  },
  {
   "cell_type": "code",
   "execution_count": 20,
   "id": "29e85fc0-8d86-486d-afd1-d6113b3744fc",
   "metadata": {},
   "outputs": [
    {
     "name": "stdin",
     "output_type": "stream",
     "text": [
      "Enter any number:  0\n"
     ]
    },
    {
     "name": "stdout",
     "output_type": "stream",
     "text": [
      "Please don't provide number as zero.\n"
     ]
    }
   ],
   "source": [
    "class CustomException(Exception):\n",
    "    pass\n",
    "    \n",
    "try:\n",
    "    number = int(input(\"Enter any number: \"))\n",
    "    \n",
    "    if number == 0:\n",
    "        raise CustomException(\"Please don't provide number as zero.\")\n",
    "except CustomException as cE:\n",
    "    print(cE)"
   ]
  },
  {
   "cell_type": "markdown",
   "id": "b7754c31-7823-4232-863a-73ce70d8e2b8",
   "metadata": {},
   "source": [
    "# Add try except block in file"
   ]
  },
  {
   "cell_type": "code",
   "execution_count": 22,
   "id": "f717970f-1307-4904-a95e-17742fef0889",
   "metadata": {},
   "outputs": [
    {
     "name": "stdout",
     "output_type": "stream",
     "text": [
      "File not found\n"
     ]
    }
   ],
   "source": [
    "try:\n",
    "    file = open(\"dfdfd.txt\", \"r\")\n",
    "    content = file.read()\n",
    "except FileNotFoundError:\n",
    "    print(\"File not found\")"
   ]
  },
  {
   "cell_type": "code",
   "execution_count": null,
   "id": "d1c4a03f-d82b-498f-a9ad-49f3b977754e",
   "metadata": {},
   "outputs": [],
   "source": []
  }
 ],
 "metadata": {
  "kernelspec": {
   "display_name": "Python 3 (ipykernel)",
   "language": "python",
   "name": "python3"
  },
  "language_info": {
   "codemirror_mode": {
    "name": "ipython",
    "version": 3
   },
   "file_extension": ".py",
   "mimetype": "text/x-python",
   "name": "python",
   "nbconvert_exporter": "python",
   "pygments_lexer": "ipython3",
   "version": "3.11.4"
  }
 },
 "nbformat": 4,
 "nbformat_minor": 5
}

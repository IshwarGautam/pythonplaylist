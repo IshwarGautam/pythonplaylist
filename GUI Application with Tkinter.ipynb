{
 "cells": [
  {
   "cell_type": "code",
   "execution_count": 2,
   "id": "2b9ce6ca-8e6f-4392-8e81-67f57c51c4e3",
   "metadata": {},
   "outputs": [],
   "source": [
    "import tkinter as tk"
   ]
  },
  {
   "cell_type": "code",
   "execution_count": 19,
   "id": "3fc2a089-75d1-4221-809d-9a5ce553609f",
   "metadata": {},
   "outputs": [],
   "source": [
    "window = tk.Tk()\n",
    "window.title(\"Calculator Application\")\n",
    "window.resizable(0,0)\n",
    "window.configure(bg=\"lightcyan\")\n",
    "\n",
    "title = tk.Label(window, text=\"Calculator\", font=(\"Impact\", 25))\n",
    "title.place(x=100, y=10)\n",
    "\n",
    "# Input first number\n",
    "num1_label = tk.Label(window, text=\"First Num:\", font=(\"Georgia\", 15))\n",
    "num1_label.place(x=5, y=100)\n",
    "num1_text = tk.Entry(window, bd=5, width=20)\n",
    "num1_text.place(x=180, y=100)\n",
    "\n",
    "# Input second number\n",
    "num2_label = tk.Label(window, text=\"Second Num:\", font=(\"Georgia\", 15))\n",
    "num2_label.place(x=5, y=150)\n",
    "num2_text = tk.Entry(window, bd=5, width=20)\n",
    "num2_text.place(x=180, y=150)\n",
    "\n",
    "# Get text\n",
    "def getText():\n",
    "    num1 = int(num1_text.get())\n",
    "    num2 = int(num2_text.get())\n",
    "    return num1, num2\n",
    "\n",
    "# Perform mathematical operations\n",
    "def add():\n",
    "    num1, num2 = getText()\n",
    "    display_output(num1+num2)\n",
    "\n",
    "def subtract():\n",
    "    num1, num2 = getText()\n",
    "    display_output(num1-num2)\n",
    "\n",
    "def multiply():\n",
    "    num1, num2 = getText()\n",
    "    display_output(num1*num2)\n",
    "\n",
    "def divide():\n",
    "    num1, num2 = getText()\n",
    "    display_output(num1/num2)\n",
    "\n",
    "# Buttons\n",
    "add_btn = tk.Button(window, text=\"Add\", font=(\"Helvetica\",10), command=add)\n",
    "add_btn.place(x=20, y=220)\n",
    "\n",
    "sub_btn = tk.Button(window, text=\"Subtract\", font=(\"Helvetica\",10), command=subtract)\n",
    "sub_btn.place(x=90, y=220)\n",
    "\n",
    "mul_btn = tk.Button(window, text=\"Multiply\", font=(\"Helvetica\",10), command=multiply)\n",
    "mul_btn.place(x=200, y=220)\n",
    "\n",
    "div_btn = tk.Button(window, text=\"Divide\", font=(\"Helvetica\",10), command=divide)\n",
    "div_btn.place(x=290, y=220)\n",
    "\n",
    "# Display output\n",
    "output_label = tk.Label(window, text=\"Output\", font=(\"Century Gothic\", 20))\n",
    "output_label.place(x=120, y=300)\n",
    "\n",
    "def display_output(output):\n",
    "    output_label.config(text=f\"{output}\")\n",
    "\n",
    "window.geometry(\"400x400\")\n",
    "window.mainloop()"
   ]
  },
  {
   "cell_type": "code",
   "execution_count": null,
   "id": "429cf210-05e0-4ad8-8c67-834a37680743",
   "metadata": {},
   "outputs": [],
   "source": []
  }
 ],
 "metadata": {
  "kernelspec": {
   "display_name": "Python 3 (ipykernel)",
   "language": "python",
   "name": "python3"
  },
  "language_info": {
   "codemirror_mode": {
    "name": "ipython",
    "version": 3
   },
   "file_extension": ".py",
   "mimetype": "text/x-python",
   "name": "python",
   "nbconvert_exporter": "python",
   "pygments_lexer": "ipython3",
   "version": "3.11.4"
  }
 },
 "nbformat": 4,
 "nbformat_minor": 5
}

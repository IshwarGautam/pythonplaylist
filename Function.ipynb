{
 "cells": [
  {
   "cell_type": "code",
   "execution_count": null,
   "id": "e1cd49c0-f7d7-4d8c-8b13-5772ae6f825e",
   "metadata": {},
   "outputs": [],
   "source": [
    "def function_name(parameters):\n",
    "    # 100 line of code\n",
    "\n",
    "function_name(arguments)"
   ]
  },
  {
   "cell_type": "code",
   "execution_count": 1,
   "id": "24681054-6ec0-4ca0-958f-75369f4e059b",
   "metadata": {},
   "outputs": [],
   "source": [
    "def greeting(name):\n",
    "    print(f\"Hello {name}\")"
   ]
  },
  {
   "cell_type": "code",
   "execution_count": 2,
   "id": "e3a3dbd9-e733-44a7-a3e0-762a03effeb7",
   "metadata": {},
   "outputs": [
    {
     "name": "stdout",
     "output_type": "stream",
     "text": [
      "Hello Ishwar\n"
     ]
    }
   ],
   "source": [
    "greeting(\"Ishwar\")"
   ]
  },
  {
   "cell_type": "code",
   "execution_count": 3,
   "id": "5fc0e20c-78d3-4a15-8407-eab98185b08e",
   "metadata": {},
   "outputs": [
    {
     "name": "stdout",
     "output_type": "stream",
     "text": [
      "Hello Manish\n"
     ]
    }
   ],
   "source": [
    "greeting(\"Manish\")"
   ]
  },
  {
   "cell_type": "code",
   "execution_count": 7,
   "id": "ea758ded-a222-4452-a709-6f91ac0432a7",
   "metadata": {},
   "outputs": [
    {
     "name": "stdout",
     "output_type": "stream",
     "text": [
      "50\n"
     ]
    }
   ],
   "source": [
    "def calculate_area(length, breadth):\n",
    "    area = length * breadth\n",
    "    return area\n",
    "\n",
    "print(calculate_area(10, 5))"
   ]
  },
  {
   "cell_type": "code",
   "execution_count": 8,
   "id": "bff20cb5-2731-4cfa-8cb7-356d9a888442",
   "metadata": {},
   "outputs": [
    {
     "name": "stdout",
     "output_type": "stream",
     "text": [
      "32\n"
     ]
    }
   ],
   "source": [
    "area = calculate_area(8,4)\n",
    "print(area)"
   ]
  },
  {
   "cell_type": "code",
   "execution_count": null,
   "id": "a1619dc9-7a14-40ca-8062-e15736b291f4",
   "metadata": {},
   "outputs": [],
   "source": []
  }
 ],
 "metadata": {
  "kernelspec": {
   "display_name": "Python 3 (ipykernel)",
   "language": "python",
   "name": "python3"
  },
  "language_info": {
   "codemirror_mode": {
    "name": "ipython",
    "version": 3
   },
   "file_extension": ".py",
   "mimetype": "text/x-python",
   "name": "python",
   "nbconvert_exporter": "python",
   "pygments_lexer": "ipython3",
   "version": "3.11.4"
  }
 },
 "nbformat": 4,
 "nbformat_minor": 5
}

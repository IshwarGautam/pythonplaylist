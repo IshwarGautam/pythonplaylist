{
 "cells": [
  {
   "cell_type": "code",
   "execution_count": 1,
   "id": "05c0bc87-29cf-43f9-b04d-a32ca718be4b",
   "metadata": {},
   "outputs": [
    {
     "name": "stdout",
     "output_type": "stream",
     "text": [
      "Execution is completed.\n"
     ]
    }
   ],
   "source": [
    "from selenium import webdriver # pip install selenium\n",
    "from selenium.webdriver.common.by import By\n",
    "from selenium.webdriver.chrome.service import Service\n",
    "from webdriver_manager.chrome import ChromeDriverManager # pip install webdriver-manager\n",
    "from time import sleep\n",
    "\n",
    "chrome_options = webdriver.ChromeOptions()\n",
    "\n",
    "chrome_options.add_argument(\"--headless\")\n",
    "# chrome_options.add_experimental_option(\"detach\", True)\n",
    "chrome_options.add_argument(\"--window-size=1520,800\")\n",
    "\n",
    "driver = webdriver.Chrome(service=Service(ChromeDriverManager().install()), options=chrome_options)\n",
    "driver.implicitly_wait(10)\n",
    "\n",
    "driver.get(\"https://docs.google.com/forms/d/e/1FAIpQLScmgvgAC-IpyZBbPoUCmZKrxehtnQpQrQRTUjyLoUJk4kkSBw/viewform\")\n",
    "\n",
    "input_field = driver.find_element(By.XPATH, \"//input[@type='text']\")\n",
    "sleep(1)\n",
    "input_field.send_keys(\"Python tutorial\")\n",
    "\n",
    "buttons = driver.find_elements(By.XPATH, \"//div[@role='button']\")\n",
    "\n",
    "for button in buttons:\n",
    "    if button.text == 'Submit' or button.text == 'पेस गर्नुहोस्':\n",
    "        button.click()\n",
    "        break\n",
    "print(\"Execution is completed.\")"
   ]
  },
  {
   "cell_type": "code",
   "execution_count": null,
   "id": "6bda3c5d-ce11-461f-8669-6e311c56e8e9",
   "metadata": {},
   "outputs": [],
   "source": []
  }
 ],
 "metadata": {
  "kernelspec": {
   "display_name": "Python 3 (ipykernel)",
   "language": "python",
   "name": "python3"
  },
  "language_info": {
   "codemirror_mode": {
    "name": "ipython",
    "version": 3
   },
   "file_extension": ".py",
   "mimetype": "text/x-python",
   "name": "python",
   "nbconvert_exporter": "python",
   "pygments_lexer": "ipython3",
   "version": "3.11.4"
  }
 },
 "nbformat": 4,
 "nbformat_minor": 5
}

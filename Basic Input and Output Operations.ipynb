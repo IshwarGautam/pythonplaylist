{
 "cells": [
  {
   "cell_type": "code",
   "execution_count": 1,
   "id": "6b11d581-b253-4932-a6e6-00e78d15ab5b",
   "metadata": {},
   "outputs": [
    {
     "name": "stdin",
     "output_type": "stream",
     "text": [
      "Enter your name:  Ishwar\n"
     ]
    }
   ],
   "source": [
    "name = input(\"Enter your name: \")"
   ]
  },
  {
   "cell_type": "code",
   "execution_count": 2,
   "id": "815ff757-772d-4c22-b6c9-d4874b8bb736",
   "metadata": {},
   "outputs": [
    {
     "name": "stdin",
     "output_type": "stream",
     "text": [
      "Enter your age:  26\n"
     ]
    }
   ],
   "source": [
    "age = input(\"Enter your age: \")"
   ]
  },
  {
   "cell_type": "code",
   "execution_count": 3,
   "id": "142ec373-3059-4b01-b198-0c65303065e1",
   "metadata": {},
   "outputs": [
    {
     "name": "stdout",
     "output_type": "stream",
     "text": [
      "Ishwar 26\n"
     ]
    }
   ],
   "source": [
    "print(name, age)"
   ]
  },
  {
   "cell_type": "code",
   "execution_count": 5,
   "id": "1a3eeeed-8849-42f5-b6ff-d50ffbc0ac94",
   "metadata": {},
   "outputs": [
    {
     "name": "stdout",
     "output_type": "stream",
     "text": [
      "Your name is Ishwar and your age is 26\n"
     ]
    }
   ],
   "source": [
    "print(\"Your name is\", name, \"and your age is\", age)"
   ]
  },
  {
   "cell_type": "code",
   "execution_count": 7,
   "id": "878cbac0-6c05-4e94-886f-bd70d93a5cda",
   "metadata": {},
   "outputs": [
    {
     "name": "stdout",
     "output_type": "stream",
     "text": [
      "Your name is Ishwar and your age is 26\n"
     ]
    }
   ],
   "source": [
    "print(\"Your name is \"+ name+ \" and your age is \"+ age)"
   ]
  },
  {
   "cell_type": "code",
   "execution_count": 8,
   "id": "8f2ea43a-abc3-4655-a7be-9a9109f1a19f",
   "metadata": {},
   "outputs": [
    {
     "name": "stdout",
     "output_type": "stream",
     "text": [
      "Your name is Ishwar and your age is 26\n"
     ]
    }
   ],
   "source": [
    "print(f\"Your name is {name} and your age is {age}\")"
   ]
  },
  {
   "cell_type": "code",
   "execution_count": 9,
   "id": "7fc1bdd3-7ee2-4ee8-b920-6c3a4dc51270",
   "metadata": {},
   "outputs": [
    {
     "name": "stdout",
     "output_type": "stream",
     "text": [
      "Your name is Ishwar and your age is 26\n"
     ]
    }
   ],
   "source": [
    "print(\"Your name is %s and your age is %s\"%(name,age))"
   ]
  },
  {
   "cell_type": "code",
   "execution_count": 12,
   "id": "920214e5-de26-413a-8b99-40cb00979035",
   "metadata": {},
   "outputs": [
    {
     "name": "stdin",
     "output_type": "stream",
     "text": [
      "Enter first number:  10\n",
      "Enter second number:  5\n"
     ]
    },
    {
     "name": "stdout",
     "output_type": "stream",
     "text": [
      "15\n"
     ]
    }
   ],
   "source": [
    "num1 = int(input(\"Enter first number: \"))\n",
    "num2 = int(input(\"Enter second number: \"))\n",
    "total = num1 + num2\n",
    "print(total)"
   ]
  },
  {
   "cell_type": "code",
   "execution_count": null,
   "id": "40b193fa-70d6-4cc0-bc2e-4df2df91ba18",
   "metadata": {},
   "outputs": [],
   "source": [
    "\"10\" + \"5\" = 105"
   ]
  }
 ],
 "metadata": {
  "kernelspec": {
   "display_name": "Python 3 (ipykernel)",
   "language": "python",
   "name": "python3"
  },
  "language_info": {
   "codemirror_mode": {
    "name": "ipython",
    "version": 3
   },
   "file_extension": ".py",
   "mimetype": "text/x-python",
   "name": "python",
   "nbconvert_exporter": "python",
   "pygments_lexer": "ipython3",
   "version": "3.11.4"
  }
 },
 "nbformat": 4,
 "nbformat_minor": 5
}

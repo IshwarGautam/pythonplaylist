{
 "cells": [
  {
   "cell_type": "code",
   "execution_count": 4,
   "id": "b2795810-2a14-4601-9bb4-69b13c8a29c1",
   "metadata": {},
   "outputs": [
    {
     "name": "stdout",
     "output_type": "stream",
     "text": [
      "Unfortunately, you failed.\n"
     ]
    }
   ],
   "source": [
    "marks = 22\n",
    "\n",
    "if marks>=40: \n",
    "    print(\"Congratulations! you've have been passed.\")\n",
    "else:\n",
    "    print(\"Unfortunately, you failed.\")"
   ]
  },
  {
   "cell_type": "code",
   "execution_count": 11,
   "id": "183a57a3-e7c4-4c29-8ae2-e71e4417d100",
   "metadata": {},
   "outputs": [
    {
     "name": "stdout",
     "output_type": "stream",
     "text": [
      "This is my lucky number.\n"
     ]
    }
   ],
   "source": [
    "number = 5\n",
    "\n",
    "if number>0 and number != 5:\n",
    "    print(\"This is positive number\")\n",
    "    print(\"First condition checked\")\n",
    "elif number<0:\n",
    "    print(\"This is negative number\")\n",
    "elif number == 5:\n",
    "    print(\"This is my lucky number.\")\n",
    "else:\n",
    "    print(\"Number is zero\")"
   ]
  },
  {
   "cell_type": "code",
   "execution_count": null,
   "id": "fb74836d-834e-4a46-955f-9027d3e71827",
   "metadata": {},
   "outputs": [],
   "source": []
  }
 ],
 "metadata": {
  "kernelspec": {
   "display_name": "Python 3 (ipykernel)",
   "language": "python",
   "name": "python3"
  },
  "language_info": {
   "codemirror_mode": {
    "name": "ipython",
    "version": 3
   },
   "file_extension": ".py",
   "mimetype": "text/x-python",
   "name": "python",
   "nbconvert_exporter": "python",
   "pygments_lexer": "ipython3",
   "version": "3.11.4"
  }
 },
 "nbformat": 4,
 "nbformat_minor": 5
}

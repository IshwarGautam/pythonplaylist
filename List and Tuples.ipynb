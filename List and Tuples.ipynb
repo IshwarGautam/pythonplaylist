{
 "cells": [
  {
   "cell_type": "markdown",
   "id": "cd3dfdd5-f0fc-4fca-86f7-fdbb05ad5a53",
   "metadata": {},
   "source": [
    "# List"
   ]
  },
  {
   "cell_type": "markdown",
   "id": "a27be32b-8dfb-4476-85ff-e9bac38ba72b",
   "metadata": {},
   "source": [
    "We can use square bracket to define the list"
   ]
  },
  {
   "cell_type": "code",
   "execution_count": 2,
   "id": "b66c60ef-ef2b-49d7-a8f4-2fd315c85fc6",
   "metadata": {},
   "outputs": [
    {
     "name": "stdout",
     "output_type": "stream",
     "text": [
      "Sun\n",
      "Mon\n",
      "Tue\n"
     ]
    }
   ],
   "source": [
    "myList = [\"Sun\", \"Mon\", \"Tue\"] # mutable\n",
    "\n",
    "# Iterate the list\n",
    "for lst in myList:\n",
    "    print(lst)"
   ]
  },
  {
   "cell_type": "code",
   "execution_count": 3,
   "id": "349f7711-434f-42ff-8382-3bc7bef96bee",
   "metadata": {},
   "outputs": [],
   "source": [
    "# add value at the end of list\n",
    "myList.append(\"Wed\")"
   ]
  },
  {
   "cell_type": "code",
   "execution_count": 13,
   "id": "c9489837-dd73-44c6-9d14-3f35d8780a3d",
   "metadata": {},
   "outputs": [
    {
     "name": "stdout",
     "output_type": "stream",
     "text": [
      "['Sun', 'Mon', 'Tue']\n"
     ]
    }
   ],
   "source": [
    "print(myList)"
   ]
  },
  {
   "cell_type": "code",
   "execution_count": 5,
   "id": "6a6836ed-8d39-4e37-8ac3-6d65a456f507",
   "metadata": {},
   "outputs": [],
   "source": [
    "# we can insert value at any position\n",
    "myList.insert(0, \"Sat\")"
   ]
  },
  {
   "cell_type": "code",
   "execution_count": 7,
   "id": "d7b20b42-9c8e-463c-9ae2-19352f47c971",
   "metadata": {},
   "outputs": [
    {
     "data": {
      "text/plain": [
       "'Wed'"
      ]
     },
     "execution_count": 7,
     "metadata": {},
     "output_type": "execute_result"
    }
   ],
   "source": [
    "# remove last element from list\n",
    "myList.pop()"
   ]
  },
  {
   "cell_type": "code",
   "execution_count": 9,
   "id": "77766ded-6693-41db-9514-5d49be8cdc73",
   "metadata": {},
   "outputs": [
    {
     "data": {
      "text/plain": [
       "'Sat'"
      ]
     },
     "execution_count": 9,
     "metadata": {},
     "output_type": "execute_result"
    }
   ],
   "source": [
    "# we can remove element from any position\n",
    "myList.pop(0)"
   ]
  },
  {
   "cell_type": "markdown",
   "id": "9e6f9dc3-f8b9-4518-ae3b-ed36f1accdf0",
   "metadata": {},
   "source": [
    "# Tuples"
   ]
  },
  {
   "cell_type": "markdown",
   "id": "4c08051f-3812-432c-898f-9a83d7eb26a5",
   "metadata": {},
   "source": [
    "we can use paranthesis to define the tuples"
   ]
  },
  {
   "cell_type": "code",
   "execution_count": 22,
   "id": "6b63b06d-d7b9-438d-bf79-80dcc6f27108",
   "metadata": {},
   "outputs": [
    {
     "name": "stdout",
     "output_type": "stream",
     "text": [
      "<class 'tuple'>\n"
     ]
    }
   ],
   "source": [
    "tup = (\"Sun\", \"Sat\", 0, 1, 7.8, False) # immutable\n",
    "print(type(tup))"
   ]
  },
  {
   "cell_type": "code",
   "execution_count": 23,
   "id": "52c1708f-4983-41fb-94f3-92c985571e91",
   "metadata": {},
   "outputs": [
    {
     "name": "stdout",
     "output_type": "stream",
     "text": [
      "Sun\n",
      "Sat\n",
      "0\n",
      "1\n",
      "7.8\n",
      "False\n"
     ]
    }
   ],
   "source": [
    "# Iterate tuples\n",
    "for t in tup:\n",
    "    print(t)"
   ]
  },
  {
   "cell_type": "code",
   "execution_count": 14,
   "id": "0690ba68-0ef3-4553-9d45-06e1e0013136",
   "metadata": {},
   "outputs": [],
   "source": [
    "# We can change value from any position in the list but in tuples, we can't do so.\n",
    "myList[2] = \"Sat\"  # Correct\n",
    "tup[2] = \"Sat\"     # Incorrect"
   ]
  },
  {
   "cell_type": "code",
   "execution_count": 15,
   "id": "5f3efe2b-fd3c-48fa-a3c0-176293e63bbe",
   "metadata": {},
   "outputs": [
    {
     "name": "stdout",
     "output_type": "stream",
     "text": [
      "['Sun', 'Mon', 'Sat']\n"
     ]
    }
   ],
   "source": [
    "print(myList)"
   ]
  },
  {
   "cell_type": "code",
   "execution_count": 16,
   "id": "dc393b7e-1aa3-4a30-8edc-3f7b45b43746",
   "metadata": {},
   "outputs": [
    {
     "name": "stdout",
     "output_type": "stream",
     "text": [
      "('Sun', 'Sat', 0, 1, 7.8, False)\n"
     ]
    }
   ],
   "source": [
    "print(tup)"
   ]
  },
  {
   "cell_type": "code",
   "execution_count": 17,
   "id": "3efd0dc6-c2a1-42bc-92ab-487915ccfeb8",
   "metadata": {},
   "outputs": [
    {
     "name": "stdout",
     "output_type": "stream",
     "text": [
      "False\n"
     ]
    }
   ],
   "source": [
    "print(tup[5])"
   ]
  },
  {
   "cell_type": "markdown",
   "id": "dbad208e-e3de-4e08-986a-7545535833eb",
   "metadata": {},
   "source": [
    "# Comment"
   ]
  },
  {
   "cell_type": "code",
   "execution_count": 19,
   "id": "19887318-e4a7-44f9-af23-131e8ac79d5a",
   "metadata": {},
   "outputs": [],
   "source": [
    "# tup[5] = True  This is single line comment"
   ]
  },
  {
   "cell_type": "code",
   "execution_count": 21,
   "id": "1d495ae7-d0ac-4677-8ded-cadd739da72f",
   "metadata": {},
   "outputs": [
    {
     "data": {
      "text/plain": [
       "'\\nThis is python tutorial\\nFrom Basics to Project.\\n'"
      ]
     },
     "execution_count": 21,
     "metadata": {},
     "output_type": "execute_result"
    }
   ],
   "source": [
    "\"\"\" This is multi-line comment\n",
    "This is Python tutorial\n",
    "From Basics to Project.\n",
    "\"\"\""
   ]
  },
  {
   "cell_type": "code",
   "execution_count": null,
   "id": "3cf6b63d-ed4a-49c2-97b3-24f04eca938d",
   "metadata": {},
   "outputs": [],
   "source": []
  }
 ],
 "metadata": {
  "kernelspec": {
   "display_name": "Python 3 (ipykernel)",
   "language": "python",
   "name": "python3"
  },
  "language_info": {
   "codemirror_mode": {
    "name": "ipython",
    "version": 3
   },
   "file_extension": ".py",
   "mimetype": "text/x-python",
   "name": "python",
   "nbconvert_exporter": "python",
   "pygments_lexer": "ipython3",
   "version": "3.11.4"
  }
 },
 "nbformat": 4,
 "nbformat_minor": 5
}

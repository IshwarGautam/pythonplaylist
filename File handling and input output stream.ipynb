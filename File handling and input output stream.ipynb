{
 "cells": [
  {
   "cell_type": "code",
   "execution_count": 3,
   "id": "e4f69507-662b-4295-9374-abfe0c75e546",
   "metadata": {},
   "outputs": [
    {
     "name": "stdout",
     "output_type": "stream",
     "text": [
      "IG Tech Team\n"
     ]
    }
   ],
   "source": [
    "file = open(\"my_file.txt\", \"r\")\n",
    "\n",
    "print(file.read)"
   ]
  },
  {
   "cell_type": "code",
   "execution_count": 5,
   "id": "fd9bf00c-b244-4216-aa95-71720c0af2f9",
   "metadata": {},
   "outputs": [],
   "source": [
    "file = open(\"my_file.txt\", \"a\")\n",
    "file.write(\"Hello world \\n\")\n",
    "file.write(\"File handling\")\n",
    "file.close()"
   ]
  },
  {
   "cell_type": "code",
   "execution_count": 6,
   "id": "ed554f8e-1f7a-4f8b-93b1-bb3261dc9fe6",
   "metadata": {},
   "outputs": [
    {
     "name": "stdout",
     "output_type": "stream",
     "text": [
      "Hello world \n",
      "File handlingHello world \n",
      "File handling\n"
     ]
    }
   ],
   "source": [
    "# Best way\n",
    "with open(\"my_file.txt\", \"r\") as file:\n",
    "    content = file.read()\n",
    "    print(content)"
   ]
  },
  {
   "cell_type": "code",
   "execution_count": null,
   "id": "bb9ca033-8dbd-49d4-bdfe-5c0676cbd4b8",
   "metadata": {},
   "outputs": [],
   "source": []
  }
 ],
 "metadata": {
  "kernelspec": {
   "display_name": "Python 3 (ipykernel)",
   "language": "python",
   "name": "python3"
  },
  "language_info": {
   "codemirror_mode": {
    "name": "ipython",
    "version": 3
   },
   "file_extension": ".py",
   "mimetype": "text/x-python",
   "name": "python",
   "nbconvert_exporter": "python",
   "pygments_lexer": "ipython3",
   "version": "3.11.4"
  }
 },
 "nbformat": 4,
 "nbformat_minor": 5
}

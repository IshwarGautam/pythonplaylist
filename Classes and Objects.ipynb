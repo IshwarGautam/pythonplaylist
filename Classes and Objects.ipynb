{
 "cells": [
  {
   "cell_type": "code",
   "execution_count": 5,
   "id": "4f44f0b9-c37e-4a56-a951-a42551747bbe",
   "metadata": {},
   "outputs": [
    {
     "name": "stdout",
     "output_type": "stream",
     "text": [
      "Init method called\n",
      "Init method called\n",
      "Ishwar\n",
      "26\n",
      "Your name is Ishwar and your age is 26\n"
     ]
    }
   ],
   "source": [
    "class Person:\n",
    "    def __init__(self, name, age): # init method\n",
    "        self.name = name # attributes\n",
    "        self.age = age\n",
    "        print(\"Init method called\")\n",
    "\n",
    "    def display(self): # display method\n",
    "        print(f\"Your name is {self.name} and your age is {self.age}\")\n",
    "\n",
    "# create object (instance) of Person class\n",
    "object1 = Person(\"Ishwar\", 26)\n",
    "object2 = Person(\"Rishi\", 25)\n",
    "\n",
    "# Access attribute\n",
    "print(object1.name)\n",
    "print(object1.age)\n",
    "\n",
    "# Call method\n",
    "object1.display()"
   ]
  },
  {
   "cell_type": "code",
   "execution_count": null,
   "id": "1c59e15c-4ee5-462c-8dcc-bcc9905dd265",
   "metadata": {},
   "outputs": [],
   "source": []
  }
 ],
 "metadata": {
  "kernelspec": {
   "display_name": "Python 3 (ipykernel)",
   "language": "python",
   "name": "python3"
  },
  "language_info": {
   "codemirror_mode": {
    "name": "ipython",
    "version": 3
   },
   "file_extension": ".py",
   "mimetype": "text/x-python",
   "name": "python",
   "nbconvert_exporter": "python",
   "pygments_lexer": "ipython3",
   "version": "3.11.4"
  }
 },
 "nbformat": 4,
 "nbformat_minor": 5
}
